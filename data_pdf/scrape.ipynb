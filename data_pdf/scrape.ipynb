{
 "cells": [
  {
   "cell_type": "code",
   "execution_count": 3,
   "metadata": {},
   "outputs": [],
   "source": [
    "import pandas as pd\n",
    "import re\n",
    "import PyPDF2"
   ]
  },
  {
   "cell_type": "code",
   "execution_count": 4,
   "metadata": {},
   "outputs": [],
   "source": [
    "def scrape_index(file):\n",
    "    \"\"\"\n",
    "    Append textbook index to existing database\n",
    "\n",
    "    Args:\n",
    "        file: A string representing the file name of the index. Should be in preexisting naming template [First Author]_ocr[Y|N]_[ISBN].pdf\n",
    "\n",
    "    Returns:\n",
    "        \n",
    "    \"\"\"\n",
    "\n",
    "    user_input = input('Have you pulled from git? (y/n): ')\n",
    "    if user_input.lower() == 'y':\n",
    "        print(\"Proceed!\")\n",
    "    elif user_input.lower() == 'n':\n",
    "        print('Go pull from git!!')\n",
    "        return\n",
    "    else:\n",
    "        print('Type yes or no')\n",
    "\n",
    "\n",
    "    ISBN = re.search(\"(\\d+)\\.pdf\", file).group(1)\n",
    "    # ISBN = \"\".join(ISBN) #joins list to make string\n",
    "\n",
    "    #measure for preventing duplicates\n",
    "    temp = pd.read_csv(\"masterlist.csv\") #reads in current masterlist\n",
    "\n",
    "    if ISBN in temp: #checks for ISBN in masterlist\n",
    "        print(\"ISBN already in masterlist.\") #prints error and returns\n",
    "        return\n",
    "\n",
    "    #file = \"data_pdf/\" + file\n",
    "    pdfFileObj = open(file, 'rb')\n",
    "    # creating a pdf reader object\n",
    "    pdfReader = PyPDF2.PdfFileReader(pdfFileObj)\n",
    "    numpages = pdfReader.numPages \n",
    "    df = []\n",
    "    for i in range(numpages):\n",
    "        pageObj = pdfReader.getPage(i)\n",
    "        # extracting text from page\n",
    "        df.append(pageObj.extractText())\n",
    "    \n",
    "    text = \"\"\n",
    "    for i in range(len(df)):\n",
    "        text = df[i] + text\n",
    "    \n",
    "    text = text.replace(\"\\n\", \",\")\n",
    "    text = text.split(\",\")\n",
    "    \n",
    "    filtered = []\n",
    "    for term in text:\n",
    "        if any(c.isalpha() for c in str(term)):\n",
    "            filtered.append((term, ISBN))\n",
    "            index = pd.DataFrame(filtered)\n",
    "    index.to_csv('masterlist.csv', mode='a', index=False, header=False)    "
   ]
  },
  {
   "cell_type": "code",
   "execution_count": 5,
   "metadata": {},
   "outputs": [
    {
     "name": "stdin",
     "output_type": "stream",
     "text": [
      "Have you pulled from git? (y/n):  y\n"
     ]
    },
    {
     "name": "stdout",
     "output_type": "stream",
     "text": [
      "Proceed!\n"
     ]
    },
    {
     "name": "stdin",
     "output_type": "stream",
     "text": [
      "Have you pulled from git? (y/n):  y\n"
     ]
    },
    {
     "name": "stdout",
     "output_type": "stream",
     "text": [
      "Proceed!\n"
     ]
    },
    {
     "name": "stdin",
     "output_type": "stream",
     "text": [
      "Have you pulled from git? (y/n):  hzfdhsekafhs\n"
     ]
    },
    {
     "name": "stdout",
     "output_type": "stream",
     "text": [
      "Type yes or no\n"
     ]
    }
   ],
   "source": [
    "scrape_index(\"Wiley_OCRn_0470565144.pdf\")\n",
    "scrape_index(\"lubliner_ocrN_3319188771.pdf\")\n",
    "scrape_index(\"philpot_ocrN_470565144.pdf\")"
   ]
  },
  {
   "cell_type": "code",
   "execution_count": null,
   "metadata": {},
   "outputs": [],
   "source": [
    "from PIL import Image\n",
    "import pytesseract\n",
    "import numpy as np\n",
    "\n",
    "filename = 'test_ocr-1.png'\n",
    "img1 = np.array(Image.open(filename))\n",
    "text = pytesseract.image_to_string(img1)\n",
    "print(text)"
   ]
  }
 ],
 "metadata": {
  "kernelspec": {
   "display_name": "Python 3 (ipykernel)",
   "language": "python",
   "name": "python3"
  },
  "language_info": {
   "codemirror_mode": {
    "name": "ipython",
    "version": 3
   },
   "file_extension": ".py",
   "mimetype": "text/x-python",
   "name": "python",
   "nbconvert_exporter": "python",
   "pygments_lexer": "ipython3",
   "version": "3.9.7"
  },
  "vscode": {
   "interpreter": {
    "hash": "215e38ef8319e1cae6b3dde5700c3b8f4291d7f7fc9767af33ad694aef458a78"
   }
  }
 },
 "nbformat": 4,
 "nbformat_minor": 4
}
