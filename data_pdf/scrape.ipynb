{
 "cells": [
  {
   "cell_type": "code",
   "execution_count": 66,
   "metadata": {},
   "outputs": [],
   "source": [
    "import pandas as pd\n",
    "import re\n",
    "import PyPDF2\n",
    "import re"
   ]
  },
  {
   "cell_type": "code",
   "execution_count": 67,
   "metadata": {},
   "outputs": [],
   "source": [
    "def scrape_index(file):\n",
    "    \"\"\"\n",
    "    Append textbook index to existing database\n",
    "\n",
    "    Args:\n",
    "        file: A string representing the file name of the index. Should be in preexisting naming template ADD IN TEMPLATE HERE\n",
    "\n",
    "    Returns:\n",
    "        \n",
    "    \"\"\"\n",
    "    ISBN = re.findall(r'\\d+', file) #reads numerics from file string and puts it in a list\n",
    "    ISBN = \"\".join(ISBN) #joins list to make string\n",
    "\n",
    "    #measure for preventing duplicates\n",
    "    temp = pd.read_csv(\"masterlist.csv\") #reads in current masterlist\n",
    "\n",
    "    if ISBN in temp: #checks for ISBN in masterlist\n",
    "        print(\"ISBN already in masterlist.\") #prints error and returns\n",
    "        return\n",
    "\n",
    "    #file = \"data_pdf/\" + file\n",
    "    pdfFileObj = open(file, 'rb')\n",
    "    # creating a pdf reader object\n",
    "    pdfReader = PyPDF2.PdfFileReader(pdfFileObj)\n",
    "    numpages = pdfReader.numPages \n",
    "    df = []\n",
    "    for i in range(numpages):\n",
    "        pageObj = pdfReader.getPage(i)\n",
    "        # extracting text from page\n",
    "        df.append(pageObj.extractText())\n",
    "    \n",
    "    text = \"\"\n",
    "    for i in range(len(df)):\n",
    "        text = df[i] + text\n",
    "    \n",
    "    text = text.replace(\"\\n\", \",\")\n",
    "    text = text.split(\",\")\n",
    "    \n",
    "    filtered = []\n",
    "    for term in text:\n",
    "        if any(c.isalpha() for c in str(term)):\n",
    "            filtered.append((term, ISBN))\n",
    "            index = pd.DataFrame(filtered)\n",
    "    index.to_csv('masterlist.csv', mode='a', index=False, header=False)    "
   ]
  },
  {
   "cell_type": "code",
   "execution_count": 68,
   "metadata": {},
   "outputs": [
    {
     "name": "stdout",
     "output_type": "stream",
     "text": [
      "ISBN already in masterlist.\n"
     ]
    }
   ],
   "source": [
    "scrape_index(\"Wiley_OCRn_0470565144.pdf\")"
   ]
  }
 ],
 "metadata": {
  "kernelspec": {
   "display_name": "Python 3.9.7 ('base')",
   "language": "python",
   "name": "python3"
  },
  "language_info": {
   "codemirror_mode": {
    "name": "ipython",
    "version": 3
   },
   "file_extension": ".py",
   "mimetype": "text/x-python",
   "name": "python",
   "nbconvert_exporter": "python",
   "pygments_lexer": "ipython3",
   "version": "3.9.7"
  },
  "orig_nbformat": 4,
  "vscode": {
   "interpreter": {
    "hash": "215e38ef8319e1cae6b3dde5700c3b8f4291d7f7fc9767af33ad694aef458a78"
   }
  }
 },
 "nbformat": 4,
 "nbformat_minor": 2
}
