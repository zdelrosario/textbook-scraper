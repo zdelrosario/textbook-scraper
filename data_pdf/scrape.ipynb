{
 "cells": [
  {
   "cell_type": "code",
   "execution_count": 60,
   "metadata": {},
   "outputs": [],
   "source": [
    "import pandas as pd\n",
    "import re\n",
    "import PyPDF2"
   ]
  },
  {
   "cell_type": "code",
   "execution_count": 61,
   "metadata": {},
   "outputs": [],
   "source": [
    "def scrape_index(file):\n",
    "    \"\"\"\n",
    "    Append textbook index to existing database\n",
    "\n",
    "    Args:\n",
    "        file: A string representing the file name of the index. Should be in preexisting naming template ADD IN TEMPLATE HERE\n",
    "\n",
    "    Returns:\n",
    "        \n",
    "    \"\"\"\n",
    "    ISBN = file[-14:-4]\n",
    "    #file = \"data_pdf/\" + file\n",
    "    pdfFileObj = open(file, 'rb')\n",
    "    # creating a pdf reader object\n",
    "    pdfReader = PyPDF2.PdfFileReader(pdfFileObj)\n",
    "    numpages = pdfReader.numPages \n",
    "    df = []\n",
    "    for i in range(numpages):\n",
    "        pageObj = pdfReader.getPage(i)\n",
    "        # extracting text from page\n",
    "        df.append(pageObj.extractText())\n",
    "    \n",
    "    text = \"\"\n",
    "    for i in range(len(df)):\n",
    "        text = df[i] + text\n",
    "    \n",
    "    text = text.replace(\"\\n\", \",\")\n",
    "    text = text.split(\",\")\n",
    "    \n",
    "    filtered = []\n",
    "    for term in text:\n",
    "        if any(c.isalpha() for c in str(term)):\n",
    "            filtered.append((term, ISBN))\n",
    "            index = pd.DataFrame(filtered)\n",
    "    index.to_csv('masterlist.csv', mode='a', index=False, header=False)    "
   ]
  },
  {
   "cell_type": "code",
   "execution_count": 62,
   "metadata": {},
   "outputs": [
    {
     "data": {
      "text/html": [
       "<div>\n",
       "<style scoped>\n",
       "    .dataframe tbody tr th:only-of-type {\n",
       "        vertical-align: middle;\n",
       "    }\n",
       "\n",
       "    .dataframe tbody tr th {\n",
       "        vertical-align: top;\n",
       "    }\n",
       "\n",
       "    .dataframe thead th {\n",
       "        text-align: right;\n",
       "    }\n",
       "</style>\n",
       "<table border=\"1\" class=\"dataframe\">\n",
       "  <thead>\n",
       "    <tr style=\"text-align: right;\">\n",
       "      <th></th>\n",
       "      <th>0</th>\n",
       "      <th>1</th>\n",
       "    </tr>\n",
       "  </thead>\n",
       "  <tbody>\n",
       "    <tr>\n",
       "      <th>0</th>\n",
       "      <td>854Torsion</td>\n",
       "      <td>0470565144</td>\n",
       "    </tr>\n",
       "    <tr>\n",
       "      <th>1</th>\n",
       "      <td>of circular shafts</td>\n",
       "      <td>0470565144</td>\n",
       "    </tr>\n",
       "    <tr>\n",
       "      <th>2</th>\n",
       "      <td>equations for</td>\n",
       "      <td>0470565144</td>\n",
       "    </tr>\n",
       "    <tr>\n",
       "      <th>3</th>\n",
       "      <td>of noncircular solid sections</td>\n",
       "      <td>0470565144</td>\n",
       "    </tr>\n",
       "    <tr>\n",
       "      <th>4</th>\n",
       "      <td>of rectangular bars</td>\n",
       "      <td>0470565144</td>\n",
       "    </tr>\n",
       "    <tr>\n",
       "      <th>...</th>\n",
       "      <td>...</td>\n",
       "      <td>...</td>\n",
       "    </tr>\n",
       "    <tr>\n",
       "      <th>1174</th>\n",
       "      <td>shear stress formula for</td>\n",
       "      <td>0470565144</td>\n",
       "    </tr>\n",
       "    <tr>\n",
       "      <th>1175</th>\n",
       "      <td>types of</td>\n",
       "      <td>0470565144</td>\n",
       "    </tr>\n",
       "    <tr>\n",
       "      <th>1176</th>\n",
       "      <td>Beam deflection diagram</td>\n",
       "      <td>0470565144</td>\n",
       "    </tr>\n",
       "    <tr>\n",
       "      <th>1177</th>\n",
       "      <td>Beam deflections</td>\n",
       "      <td>0470565144</td>\n",
       "    </tr>\n",
       "    <tr>\n",
       "      <th>1178</th>\n",
       "      <td>equations</td>\n",
       "      <td>0470565144</td>\n",
       "    </tr>\n",
       "  </tbody>\n",
       "</table>\n",
       "<p>1179 rows × 2 columns</p>\n",
       "</div>"
      ],
      "text/plain": [
       "                                  0           1\n",
       "0                        854Torsion  0470565144\n",
       "1                of circular shafts  0470565144\n",
       "2                     equations for  0470565144\n",
       "3     of noncircular solid sections  0470565144\n",
       "4               of rectangular bars  0470565144\n",
       "...                             ...         ...\n",
       "1174       shear stress formula for  0470565144\n",
       "1175                       types of  0470565144\n",
       "1176        Beam deflection diagram  0470565144\n",
       "1177               Beam deflections  0470565144\n",
       "1178                      equations  0470565144\n",
       "\n",
       "[1179 rows x 2 columns]"
      ]
     },
     "execution_count": 62,
     "metadata": {},
     "output_type": "execute_result"
    }
   ],
   "source": [
    "scrape_index(\"Wiley_OCRn_0470565144.pdf\")"
   ]
  },
  {
   "cell_type": "code",
   "execution_count": 63,
   "metadata": {},
   "outputs": [],
   "source": [
    "# # importing required modules\n",
    "\n",
    "  \n",
    "# # creating a pdf file object\n",
    "# file = \"sodapdf-converted.pdf\"\n",
    "\n",
    "# pdfFileObj = open(file, 'rb')\n",
    "  \n",
    "# # creating a pdf reader object\n",
    "# pdfReader = PyPDF2.PdfFileReader(pdfFileObj)\n",
    "  \n",
    "# # printing number of pages in pdf file\n",
    "# numpages = pdfReader.numPages \n",
    "\n",
    "# df = []\n",
    "  \n",
    "# for i in range(numpages):\n",
    "#     pageObj = pdfReader.getPage(i)\n",
    "#     # extracting text from page\n",
    "#     df.append(pageObj.extractText())\n",
    "\n",
    "# text = \"\"\n",
    "\n",
    "# for i in range(len(df)):\n",
    "#     text = df[i] + text\n",
    "\n",
    "# # closing the pdf file object\n",
    "# pdfFileObj.close()"
   ]
  },
  {
   "cell_type": "code",
   "execution_count": 64,
   "metadata": {},
   "outputs": [],
   "source": [
    "# text = text.replace(\"\\n\", \",\")\n",
    "# text = text.split(\",\")\n",
    "# #have list of lists need singular"
   ]
  },
  {
   "cell_type": "code",
   "execution_count": 65,
   "metadata": {},
   "outputs": [],
   "source": [
    "# filtered = []\n",
    "# for term in text:\n",
    "#    if any(c.isalpha() for c in str(term)):\n",
    "#     filtered.append(term)\n",
    "# index = pd.DataFrame(filtered)\n",
    "# index\n",
    "\n",
    "# #cleaning up this dataframe\n",
    "# #get rid of numbers"
   ]
  },
  {
   "cell_type": "code",
   "execution_count": 66,
   "metadata": {},
   "outputs": [],
   "source": [
    "# letters = [[A-Z]]\n",
    "# df\n",
    "# final_list = [word for word in df if all(letter in letters for letter in word)]\n",
    "# print(final_list)"
   ]
  },
  {
   "cell_type": "code",
   "execution_count": 67,
   "metadata": {},
   "outputs": [],
   "source": [
    "# letters = ['R', 'E', 'T', 'O', 'P', 'A']\n",
    "# dictionary = ['REPORT', 'INVALID', 'ROPE']\n",
    "# final_list = [word for word in dictionary if all(letter in letters for letter in word)]\n",
    "# print(final_list)"
   ]
  }
 ],
 "metadata": {
  "kernelspec": {
   "display_name": "Python 3.9.7 ('base')",
   "language": "python",
   "name": "python3"
  },
  "language_info": {
   "codemirror_mode": {
    "name": "ipython",
    "version": 3
   },
   "file_extension": ".py",
   "mimetype": "text/x-python",
   "name": "python",
   "nbconvert_exporter": "python",
   "pygments_lexer": "ipython3",
   "version": "3.9.7"
  },
  "orig_nbformat": 4,
  "vscode": {
   "interpreter": {
    "hash": "215e38ef8319e1cae6b3dde5700c3b8f4291d7f7fc9767af33ad694aef458a78"
   }
  }
 },
 "nbformat": 4,
 "nbformat_minor": 2
}
